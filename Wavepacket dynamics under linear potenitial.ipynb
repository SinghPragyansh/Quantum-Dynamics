{
 "cells": [
  {
   "cell_type": "code",
   "execution_count": 187,
   "id": "3b2638ca",
   "metadata": {},
   "outputs": [],
   "source": [
    "import numpy as np\n",
    "import scipy as sc\n",
    "import scipy.fftpack as sft\n",
    "import scipy.integrate as sci\n",
    "import matplotlib.pyplot as plt"
   ]
  },
  {
   "cell_type": "code",
   "execution_count": 223,
   "id": "d28132f1",
   "metadata": {},
   "outputs": [
    {
     "data": {
      "text/plain": [
       "(-10.0, 10.0)"
      ]
     },
     "execution_count": 223,
     "metadata": {},
     "output_type": "execute_result"
    },
    {
     "data": {
      "image/png": "[encoded data removed]",
      "text/plain": [
       "<Figure size 432x288 with 1 Axes>"
      ]
     },
     "metadata": {
      "needs_background": "light"
     },
     "output_type": "display_data"
    }
   ],
   "source": [
    "xmin = -1000\n",
    "xmax = 1000.2\n",
    "dx = 0.2\n",
    "ko =1\n",
    "x = np.arange(xmin,xmax,dx)\n",
    "psi = np.exp(1j*ko*x)*np.exp(-x**2/2)                 # Defining travelling gaussian function \n",
    "pd_1 = abs(psi)**2 \n",
    "norm = 1 / np.sqrt(sci.simps(pd_1,x))\n",
    "psi_N = norm*psi\n",
    "prob_den_initial = abs(psi_N)**2\n",
    "plt.plot(x,prob_den_initial)\n",
    "plt.xlim(-10,10)"
   ]
  },
  {
   "cell_type": "code",
   "execution_count": 224,
   "id": "25494d0c",
   "metadata": {},
   "outputs": [],
   "source": [
    "N = len(x)\n",
    "freq = sft.fftfreq(N,dx)\n",
    "k = 2*np.pi*freq\n",
    "ke_k = 0.5*k**2"
   ]
  },
  {
   "cell_type": "code",
   "execution_count": 225,
   "id": "4f881625",
   "metadata": {},
   "outputs": [],
   "source": [
    "V = -x                     # defining potenitial dependance with respect to space\n",
    "Nt = 50\n",
    "dt = 0.1"
   ]
  },
  {
   "cell_type": "code",
   "execution_count": 226,
   "id": "183a3a93",
   "metadata": {},
   "outputs": [],
   "source": [
    "for i in np.arange(Nt):\n",
    "    psi_N_k = sft.fft(psi_N)                      # FT to momentum domain \n",
    "    psi_N_k_dt = np.exp(-1j*ke_k*dt/2)*psi_N_k    # delata t Time evolution through 1st KE operator\n",
    "    psi_N_i = sft.ifft(psi_N_k_dt)                # IFT to position space\n",
    "    psi_N_i_pe = np.exp(-1j*V*dt)*psi_N_i         # delata t Time evolution through PE operator\n",
    "    psi_N_k2 = sft.fft(psi_N_i_pe)                # FT to momentum space\n",
    "    psi_N_k2_dt = np.exp(-1j*ke_k*dt/2)*psi_N_k2  # delata t Time evolution through 2nd KE operator\n",
    "    psi_N = sft.ifft(psi_N_k2_dt)                 # IFT to postion space"
   ]
  },
  {
   "cell_type": "code",
   "execution_count": 227,
   "id": "903fe148",
   "metadata": {},
   "outputs": [
    {
     "data": {
      "text/plain": [
       "(-20.0, 90.0)"
      ]
     },
     "execution_count": 227,
     "metadata": {},
     "output_type": "execute_result"
    },
    {
     "data": {
      "image/png": "[encoded data removed]",
      "text/plain": [
       "<Figure size 432x288 with 1 Axes>"
      ]
     },
     "metadata": {
      "needs_background": "light"
     },
     "output_type": "display_data"
    }
   ],
   "source": [
    "prob_den_final = abs(psi_N)**2\n",
    "prob_final = sci.simps(psi_N,x)\n",
    "plt.plot(x,prob_den_final)\n",
    "plt.xlim(-20,90)\n",
    "plt.plot(x,prob_den_initial)\n",
    "plt.xlim(-20,90)"
   ]
  },
  {
   "cell_type": "code",
   "execution_count": 228,
   "id": "55c57dc7",
   "metadata": {},
   "outputs": [
    {
     "name": "stdout",
     "output_type": "stream",
     "text": [
      "width at 60 percent height = 3.6055512754641708\n",
      "expectation value at Nt atomic unit time = 17.50000000000858\n"
     ]
    }
   ],
   "source": [
    "# TESTING EHRENFEST THEOREM\n",
    "expectation_x = sci.simps(prob_den_final*x,x)\n",
    "expectation_x_2 = sci.simps(prob_den_final*x**2,x)\n",
    "variance = np.sqrt(expectation_x_2 - expectation_x**2)\n",
    "print(\"width at 60 percent height =\",variance)                             \n",
    "print(\"expectation value at Nt atomic unit time =\",expectation_x)       # Mean position of gaussian curve at Nt atomic unit time"
   ]
  },
  {
   "cell_type": "code",
   "execution_count": null,
   "id": "8d28afa8",
   "metadata": {},
   "outputs": [],
   "source": []
  },
  {
   "cell_type": "code",
   "execution_count": null,
   "id": "b026f437",
   "metadata": {},
   "outputs": [],
   "source": []
  },
  {
   "cell_type": "code",
   "execution_count": null,
   "id": "76f73099",
   "metadata": {},
   "outputs": [],
   "source": []
  }
 ],
 "metadata": {
  "kernelspec": {
   "display_name": "Python 3 (ipykernel)",
   "language": "python",
   "name": "python3"
  },
  "language_info": {
   "codemirror_mode": {
    "name": "ipython",
    "version": 3
   },
   "file_extension": ".py",
   "mimetype": "text/x-python",
   "name": "python",
   "nbconvert_exporter": "python",
   "pygments_lexer": "ipython3",
   "version": "3.9.9"
  }
 },
 "nbformat": 4,
 "nbformat_minor": 5
}
