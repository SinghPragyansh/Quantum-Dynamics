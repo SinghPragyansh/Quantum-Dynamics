{
 "cells": [
  {
   "cell_type": "code",
   "execution_count": 7,
   "id": "bd716212",
   "metadata": {},
   "outputs": [],
   "source": [
    "import scipy as sc\n",
    "import numpy as np\n",
    "import scipy.integrate as sci\n",
    "import matplotlib.pyplot as plt\n",
    "import scipy.fftpack as sft"
   ]
  },
  {
   "cell_type": "code",
   "execution_count": 8,
   "id": "98c37ad5",
   "metadata": {},
   "outputs": [],
   "source": [
    "# Creating X grid\n",
    "xmin = -1000\n",
    "xmax = 1000.2\n",
    "dx = 0.2\n",
    "x = np.arange(xmin,xmax,dx)"
   ]
  },
  {
   "cell_type": "code",
   "execution_count": 18,
   "id": "d6fd77fa",
   "metadata": {},
   "outputs": [
    {
     "name": "stdout",
     "output_type": "stream",
     "text": [
      "1.7724538509055157\n",
      "(1.1419713938389982-1.1102230246251565e-16j)\n"
     ]
    }
   ],
   "source": [
    "k0 =1                                      # Conisdering 1 Atomic unit of velocity\n",
    "psi = np.exp((-x**2)/2)*np.exp(1j*k0*x)    #Travelling Gaussian function at t=0\n",
    "prob_dens = abs(psi)**2\n",
    "Norm = sci.simps(prob_dens,x)\n",
    "print(Norm)\n",
    "Norm_cons = np.sqrt(1/(Norm))\n",
    "psi_N = Norm_cons*psi\n",
    "pd_1 = abs(psi_N)**2\n",
    "prob= sci.simps(pd_1,x)\n",
    "print(Prob)"
   ]
  },
  {
   "cell_type": "code",
   "execution_count": 19,
   "id": "5579ab6e",
   "metadata": {},
   "outputs": [
    {
     "name": "stdout",
     "output_type": "stream",
     "text": [
      "1.0\n"
     ]
    }
   ],
   "source": [
    "# Checking whether the wavefucntion has normalised or not.\n",
    "N_prob_dens = abs(psi_N**2)\n",
    "prob = sci.simps(N_prob_dens,x)\n",
    "print(prob)                      "
   ]
  },
  {
   "cell_type": "code",
   "execution_count": 20,
   "id": "7d9a43ad",
   "metadata": {},
   "outputs": [
    {
     "name": "stderr",
     "output_type": "stream",
     "text": [
      "C:\\Python\\Python39\\lib\\site-packages\\matplotlib\\cbook\\__init__.py:1298: ComplexWarning: Casting complex values to real discards the imaginary part\n",
      "  return np.asarray(x, float)\n"
     ]
    },
    {
     "data": {
      "text/plain": [
       "(-5.0, 5.0)"
      ]
     },
     "execution_count": 20,
     "metadata": {},
     "output_type": "execute_result"
    },
    {
     "data": {
      "image/png": "[encoded data removed]",
      "text/plain": [
       "<Figure size 432x288 with 1 Axes>"
      ]
     },
     "metadata": {
      "needs_background": "light"
     },
     "output_type": "display_data"
    }
   ],
   "source": [
    "# Plotting normalised wavefuncion and prob density curves\n",
    "plt.plot(x,psi_N,'*-')\n",
    "plt.xlim(-5,5)\n",
    "plt.plot(x,N_prob_dens)\n",
    "plt.xlim(-5,5)"
   ]
  },
  {
   "cell_type": "code",
   "execution_count": 21,
   "id": "5d8c4d26",
   "metadata": {},
   "outputs": [],
   "source": [
    "# Creating K grid or momentum space for FT \n",
    "N = len(x)\n",
    "xi = sft.fftfreq(N,dx)\n",
    "k = 2*np.pi*xi"
   ]
  },
  {
   "cell_type": "code",
   "execution_count": 22,
   "id": "59338f91",
   "metadata": {},
   "outputs": [
    {
     "data": {
      "text/plain": [
       "(-10.0, 30.0)"
      ]
     },
     "execution_count": 22,
     "metadata": {},
     "output_type": "execute_result"
    },
    {
     "data": {
      "image/png": "[encoded data removed]",
      "text/plain": [
       "<Figure size 432x288 with 1 Axes>"
      ]
     },
     "metadata": {
      "needs_background": "light"
     },
     "output_type": "display_data"
    }
   ],
   "source": [
    "KE_k = 0.5*k**2          # Defining KE in a.u.\n",
    "Nt = 100                # Total number of steps(Iteration in the loop) for the time in a.u.\n",
    "dt = 0.1                # Delta Time for every evolution in a.u.\n",
    "for i in np.arange(Nt):       # This arange(N), means start at 0 with interval 1, endpoint at N\n",
    "    y_k = sft.fft(psi_N)       # FT\n",
    "    y_k_dt =np.exp(-1.0j*KE_k*dt)*y_k     #Applying Time evolution operator on fourier transformed wf in momentum space\n",
    "    psi_N = sft.ifft(y_k_dt)\n",
    "    \n",
    "prob_dens_final = abs(psi_N)**2\n",
    "plt.plot(x,prob_dens_final)\n",
    "plt.xlim(-10,30)\n",
    "plt.plot(x,N_prob_dens)             # We observe that the centre of the wavefunction has moved away with time\n",
    "plt.xlim(-10,30)"
   ]
  },
  {
   "cell_type": "code",
   "execution_count": 23,
   "id": "9519c319",
   "metadata": {},
   "outputs": [
    {
     "name": "stdout",
     "output_type": "stream",
     "text": [
      "Half width at 60 percent maxima = 7.1063352017790535\n",
      "Expectation Value of Gaussian Curve= 10.000000000004851\n"
     ]
    }
   ],
   "source": [
    "# Let's Test Ehrenfest Theorem, and quantify the travelling curve with resepct to their mean and width.\n",
    "#By changing Time(Nt), we can observe the wavepacket at different instances.\n",
    "\n",
    "x_avg = sci.simps(prob_dens_final*x,x)\n",
    "x_sqr_avg = sci.simps(prob_dens_final*x**2,x)\n",
    "variance = np.sqrt(x_sqr_avg - x_avg**2)\n",
    "print(\"Half width at 60 percent maxima =\",variance)\n",
    "print(\"Expectation Value of Gaussian Curve=\", x_avg)"
   ]
  },
  {
   "cell_type": "code",
   "execution_count": 24,
   "id": "4b649ce2",
   "metadata": {},
   "outputs": [],
   "source": [
    "# By noting the mean value and width of curve at different time, we can plot the graph of , Mean Posi vs Time, where we can \n",
    "#  clearly explain the movement of centre of the curve and spread of the curve with respect to time."
   ]
  },
  {
   "cell_type": "code",
   "execution_count": null,
   "id": "0da71e6f",
   "metadata": {},
   "outputs": [],
   "source": []
  }
 ],
 "metadata": {
  "kernelspec": {
   "display_name": "Python 3 (ipykernel)",
   "language": "python",
   "name": "python3"
  },
  "language_info": {
   "codemirror_mode": {
    "name": "ipython",
    "version": 3
   },
   "file_extension": ".py",
   "mimetype": "text/x-python",
   "name": "python",
   "nbconvert_exporter": "python",
   "pygments_lexer": "ipython3",
   "version": "3.9.9"
  }
 },
 "nbformat": 4,
 "nbformat_minor": 5
}
