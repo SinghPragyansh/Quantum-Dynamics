{
 "cells": [
  {
   "cell_type": "code",
   "execution_count": 3,
   "id": "093dd561",
   "metadata": {},
   "outputs": [],
   "source": [
    "import scipy as sc\n",
    "import numpy as np\n",
    "import scipy.linalg as sal"
   ]
  },
  {
   "cell_type": "code",
   "execution_count": 4,
   "id": "f3aee632",
   "metadata": {},
   "outputs": [],
   "source": [
    "# Creating Null Matrix of desirable dimension\n",
    "A = np.zeros((2,2))"
   ]
  },
  {
   "cell_type": "code",
   "execution_count": 5,
   "id": "eb4e7e19",
   "metadata": {},
   "outputs": [
    {
     "name": "stdout",
     "output_type": "stream",
     "text": [
      "[[2. 1.]\n",
      " [1. 2.]]\n"
     ]
    }
   ],
   "source": [
    "# Replace and fill according to the needed elements\n",
    "A[0,0] = 2\n",
    "A[0,1] = 1\n",
    "A[1,0] = 1\n",
    "A[1,1] = 2\n",
    "print(A)"
   ]
  },
  {
   "cell_type": "code",
   "execution_count": 6,
   "id": "752f8932",
   "metadata": {},
   "outputs": [
    {
     "name": "stdout",
     "output_type": "stream",
     "text": [
      "Eigen Values= [3.+0.j 1.+0.j]\n",
      "Eigen Vectors= [[ 0.70710678 -0.70710678]\n",
      " [ 0.70710678  0.70710678]]\n"
     ]
    }
   ],
   "source": [
    "# Calculating Eigen Value and Eigen Vector\n",
    "E, V = sal.eig(A)\n",
    "print(\"Eigen Values=\",E)\n",
    "print(\"Eigen Vectors=\",V)         # Obtained Eigen Vector is Normalised Right Eigen Vector."
   ]
  },
  {
   "cell_type": "code",
   "execution_count": 7,
   "id": "787b3e02",
   "metadata": {},
   "outputs": [
    {
     "name": "stdout",
     "output_type": "stream",
     "text": [
      "(3+0j)\n",
      "(1+0j)\n"
     ]
    }
   ],
   "source": [
    "# Writing Eigen Values separately\n",
    "print(E[0])\n",
    "print(E[1])"
   ]
  },
  {
   "cell_type": "code",
   "execution_count": 8,
   "id": "641eb8b7",
   "metadata": {},
   "outputs": [
    {
     "name": "stdout",
     "output_type": "stream",
     "text": [
      "(2, 2)\n"
     ]
    }
   ],
   "source": [
    "S =V.shape   # So the Dimension or shape function does not follow the index system of starting from zero\n",
    "print(S)"
   ]
  },
  {
   "cell_type": "code",
   "execution_count": 9,
   "id": "2935dfc5",
   "metadata": {},
   "outputs": [
    {
     "name": "stdout",
     "output_type": "stream",
     "text": [
      "[0.70710678 0.70710678]\n",
      "[-0.70710678  0.70710678]\n"
     ]
    }
   ],
   "source": [
    "# Identifying Eigen Vectors\n",
    "print(V[:,0])  # Array for 1st Eigen vector , i.e. 1st Column\n",
    "print(V[:,1])  # Array for 2nd Eigen vector, 2nd Column "
   ]
  },
  {
   "cell_type": "code",
   "execution_count": 10,
   "id": "530ecfde",
   "metadata": {},
   "outputs": [
    {
     "name": "stdout",
     "output_type": "stream",
     "text": [
      "[[0.70710678]\n",
      " [0.70710678]]\n"
     ]
    }
   ],
   "source": [
    "V1 = V[:,0]\n",
    "V1.shape=(2,1) # Shape function follows regular dimension Notation\n",
    "print(V1)"
   ]
  },
  {
   "cell_type": "code",
   "execution_count": 11,
   "id": "5695a3a3",
   "metadata": {},
   "outputs": [
    {
     "name": "stdout",
     "output_type": "stream",
     "text": [
      "[[-0.70710678]\n",
      " [ 0.70710678]]\n"
     ]
    }
   ],
   "source": [
    "V2 = V[:,1]\n",
    "V2.shape = (2,1)\n",
    "print(V2)"
   ]
  },
  {
   "cell_type": "code",
   "execution_count": 21,
   "id": "de586745",
   "metadata": {},
   "outputs": [
    {
     "name": "stdout",
     "output_type": "stream",
     "text": [
      "[1.]\n",
      "[1.]\n",
      "[2.23711432e-17]\n"
     ]
    }
   ],
   "source": [
    "# Inner Product (Scaler)\n",
    "check1 = V[:,0] @ V1      #Scaler multiplication between BRA(row) array and KET(column) array of Eigen Vector 1\n",
    "print(check1)             # Normality Check\n",
    "check2 = V[:,1] @ V2\n",
    "print(check2)             # Normality Check\n",
    "check3 = V[:,0] @ V2\n",
    "print(check3)             # Orthogonality Check"
   ]
  },
  {
   "cell_type": "code",
   "execution_count": null,
   "id": "c8976687",
   "metadata": {},
   "outputs": [],
   "source": []
  }
 ],
 "metadata": {
  "kernelspec": {
   "display_name": "Python 3 (ipykernel)",
   "language": "python",
   "name": "python3"
  },
  "language_info": {
   "codemirror_mode": {
    "name": "ipython",
    "version": 3
   },
   "file_extension": ".py",
   "mimetype": "text/x-python",
   "name": "python",
   "nbconvert_exporter": "python",
   "pygments_lexer": "ipython3",
   "version": "3.9.9"
  }
 },
 "nbformat": 4,
 "nbformat_minor": 5
}
