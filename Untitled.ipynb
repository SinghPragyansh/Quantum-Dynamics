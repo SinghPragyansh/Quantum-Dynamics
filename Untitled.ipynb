{
 "cells": [
  {
   "cell_type": "code",
   "execution_count": 2,
   "id": "dba65d6a",
   "metadata": {},
   "outputs": [],
   "source": [
    "import numpy as np\n",
    "import scipy as sc\n",
    "import scipy.linalg as sal"
   ]
  },
  {
   "cell_type": "code",
   "execution_count": 4,
   "id": "7ee30498",
   "metadata": {},
   "outputs": [
    {
     "name": "stdout",
     "output_type": "stream",
     "text": [
      "[[ 57.438 -18.304  62.638]\n",
      " [-33.271  35.199 -37.08 ]\n",
      " [ 70.66  -27.226  41.351]]\n"
     ]
    }
   ],
   "source": [
    "A = np.zeros((3,3))\n",
    "A[0,0] =  57.438\n",
    "A[0,1] = -18.304\n",
    "A[0,2] = 62.638\n",
    "A[1,0] = -33.271\n",
    "A[1,1] = 35.199\n",
    "A[1,2] = -37.080\n",
    "A[2,0] = 70.660\n",
    "A[2,1] = -27.226\n",
    "A[2,2] = 41.351\n",
    "print(A)"
   ]
  },
  {
   "cell_type": "code",
   "execution_count": 5,
   "id": "2a9c95c1",
   "metadata": {},
   "outputs": [
    {
     "name": "stdout",
     "output_type": "stream",
     "text": [
      "Eigen Values = [132.5543169 +0.j -18.84576413+0.j  20.27944724+0.j]\n",
      "Eigen Vectors = [[-0.63310321  0.60180825  0.33969672]\n",
      " [ 0.45490071 -0.1655581   0.93773605]\n",
      " [-0.6262952  -0.7812921   0.07250682]]\n"
     ]
    }
   ],
   "source": [
    "E,V = sal.eig(A)\n",
    "print(\"Eigen Values =\",E)\n",
    "print(\"Eigen Vectors =\",V)"
   ]
  },
  {
   "cell_type": "code",
   "execution_count": 8,
   "id": "261d4265",
   "metadata": {},
   "outputs": [
    {
     "name": "stdout",
     "output_type": "stream",
     "text": [
      "(44.66266666666664+0j)\n"
     ]
    }
   ],
   "source": [
    "E_iso = np.sum(E)/3\n",
    "print(E_iso)"
   ]
  },
  {
   "cell_type": "code",
   "execution_count": null,
   "id": "f20578a1",
   "metadata": {},
   "outputs": [],
   "source": []
  }
 ],
 "metadata": {
  "kernelspec": {
   "display_name": "Python 3 (ipykernel)",
   "language": "python",
   "name": "python3"
  },
  "language_info": {
   "codemirror_mode": {
    "name": "ipython",
    "version": 3
   },
   "file_extension": ".py",
   "mimetype": "text/x-python",
   "name": "python",
   "nbconvert_exporter": "python",
   "pygments_lexer": "ipython3",
   "version": "3.9.9"
  }
 },
 "nbformat": 4,
 "nbformat_minor": 5
}
