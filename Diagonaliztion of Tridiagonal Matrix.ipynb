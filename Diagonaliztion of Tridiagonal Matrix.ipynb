{
 "cells": [
  {
   "cell_type": "code",
   "execution_count": 1,
   "id": "81f34fda",
   "metadata": {},
   "outputs": [],
   "source": [
    "import scipy as sc\n",
    "import numpy as np\n",
    "import scipy.linalg as sal"
   ]
  },
  {
   "cell_type": "code",
   "execution_count": 3,
   "id": "8c27adbe",
   "metadata": {},
   "outputs": [],
   "source": [
    "#### 1st way of treating the diagonal\n",
    "A = np.zeros((3,3))"
   ]
  },
  {
   "cell_type": "code",
   "execution_count": 6,
   "id": "2380c455",
   "metadata": {},
   "outputs": [
    {
     "name": "stdout",
     "output_type": "stream",
     "text": [
      "[[ 2. -1.  0.]\n",
      " [-1.  2. -1.]\n",
      " [ 0. -1.  2.]]\n"
     ]
    }
   ],
   "source": [
    "for i in np.arange(3):\n",
    "    A[i,i] = 2\n",
    "for i in np.arange(2):\n",
    "    A[i,i+1] = -1\n",
    "    A[i+1,i] = -1\n",
    "print(A)"
   ]
  },
  {
   "cell_type": "code",
   "execution_count": 13,
   "id": "cd56ac5f",
   "metadata": {},
   "outputs": [
    {
     "name": "stdout",
     "output_type": "stream",
     "text": [
      "[3.41421356+0.j 2.        +0.j 0.58578644+0.j] /\n",
      "[[-5.00000000e-01 -7.07106781e-01  5.00000000e-01]\n",
      " [ 7.07106781e-01  4.05405432e-16  7.07106781e-01]\n",
      " [-5.00000000e-01  7.07106781e-01  5.00000000e-01]]\n"
     ]
    }
   ],
   "source": [
    "E,V = sal.eig(A)\n",
    "print(E)\n",
    "print(V)"
   ]
  },
  {
   "cell_type": "code",
   "execution_count": 10,
   "id": "cf447fcb",
   "metadata": {},
   "outputs": [
    {
     "name": "stdout",
     "output_type": "stream",
     "text": [
      "(3.4142135623730914+0j) (1.9999999999999998+0j) (0.5857864376269049+0j)\n"
     ]
    }
   ],
   "source": [
    "print(E[0],E[1],E[2])"
   ]
  },
  {
   "cell_type": "code",
   "execution_count": 17,
   "id": "688f526f",
   "metadata": {},
   "outputs": [
    {
     "data": {
      "text/plain": [
       "array([[-0.5       ],\n",
       "       [ 0.70710678],\n",
       "       [-0.5       ]])"
      ]
     },
     "execution_count": 17,
     "metadata": {},
     "output_type": "execute_result"
    }
   ],
   "source": [
    "V1 =V[:,0]\n",
    "V1.shape = (3,1)\n",
    "V1"
   ]
  },
  {
   "cell_type": "code",
   "execution_count": 27,
   "id": "7322a8f4",
   "metadata": {},
   "outputs": [
    {
     "name": "stdout",
     "output_type": "stream",
     "text": [
      "[[ 0. -1. -1.]\n",
      " [ 2.  2.  2.]]\n",
      "[0.58578644 2.         3.41421356]\n",
      "[[-5.00000000e-01 -7.07106781e-01  5.00000000e-01]\n",
      " [-7.07106781e-01  3.12250226e-16 -7.07106781e-01]\n",
      " [-5.00000000e-01  7.07106781e-01  5.00000000e-01]]\n"
     ]
    }
   ],
   "source": [
    "#### ANOTHER WAY OF TREATING THE TRIDIAGONAL\n",
    "B = np.zeros((2,3))\n",
    "for i in np.arange(2):\n",
    "    B[0,i+1] = -1\n",
    "for i in np.arange(3):    \n",
    "    B[1,i] = 2\n",
    "print(B)\n",
    "\n",
    "E,V = sal.eig_banded(B)     # THIS IS FOR UPPER BAND, for a lower band, the matrix needs to be tweaked and command will be E,V = sal.eig_banded(B, lower = true)\n",
    "print(E)\n",
    "print(V)"
   ]
  },
  {
   "cell_type": "code",
   "execution_count": null,
   "id": "7b447b0f",
   "metadata": {},
   "outputs": [],
   "source": []
  }
 ],
 "metadata": {
  "kernelspec": {
   "display_name": "Python 3 (ipykernel)",
   "language": "python",
   "name": "python3"
  },
  "language_info": {
   "codemirror_mode": {
    "name": "ipython",
    "version": 3
   },
   "file_extension": ".py",
   "mimetype": "text/x-python",
   "name": "python",
   "nbconvert_exporter": "python",
   "pygments_lexer": "ipython3",
   "version": "3.9.9"
  }
 },
 "nbformat": 4,
 "nbformat_minor": 5
}
